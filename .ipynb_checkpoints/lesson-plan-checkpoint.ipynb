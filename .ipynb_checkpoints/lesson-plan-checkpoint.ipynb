{
 "cells": [
  {
   "cell_type": "markdown",
   "metadata": {},
   "source": [
    "### Questions\n",
    "* importing from a .py file into the notebook or anywhere else\n",
    "* explain the purpose of an ide and jupyter\n",
    "* set it up so it runs from one to the other (workflow)\n"
   ]
  },
  {
   "cell_type": "markdown",
   "metadata": {},
   "source": [
    "### Objectives\n",
    "YWBAT \n",
    "* explain when to use inheritance in OOP structured programming\n",
    "* create child classes that inherit the attributes of a parent class\n",
    "* build a child class that is specific to a use case"
   ]
  },
  {
   "cell_type": "markdown",
   "metadata": {},
   "source": [
    "### Scenario\n",
    "Now that we are able to build a class to better query our database let's extend it using child classes.  The reason for this is that each table has different inputs and structures that must be taken into consideration. We want to build classes that are specific to each table."
   ]
  },
  {
   "cell_type": "code",
   "execution_count": 36,
   "metadata": {},
   "outputs": [
    {
     "data": {
      "text/plain": [
       "<module 'sql_connector' from '/Users/rafael/flatiron_dsc/curriculum/section07/mod1-section07-oop01-lesson/sql_connector.py'>"
      ]
     },
     "execution_count": 36,
     "metadata": {},
     "output_type": "execute_result"
    }
   ],
   "source": [
    "from importlib import reload\n",
    "\n",
    "import sql_connector as sc\n",
    "import pandas as pd\n",
    "import numpy as np\n",
    "\n",
    "reload(sc)"
   ]
  },
  {
   "cell_type": "code",
   "execution_count": 37,
   "metadata": {},
   "outputs": [],
   "source": [
    "conn = sc.SQLConnector(filename=\"data.sqlite\")"
   ]
  },
  {
   "cell_type": "code",
   "execution_count": 38,
   "metadata": {},
   "outputs": [
    {
     "data": {
      "text/plain": [
       "['orderdetails',\n",
       " 'payments',\n",
       " 'offices',\n",
       " 'customers',\n",
       " 'orders',\n",
       " 'productlines',\n",
       " 'products',\n",
       " 'employees']"
      ]
     },
     "execution_count": 38,
     "metadata": {},
     "output_type": "execute_result"
    }
   ],
   "source": [
    "conn.tables"
   ]
  },
  {
   "cell_type": "code",
   "execution_count": 39,
   "metadata": {},
   "outputs": [],
   "source": [
    "products = sc.ProductsConn(\"data.sqlite\")"
   ]
  },
  {
   "cell_type": "code",
   "execution_count": 42,
   "metadata": {},
   "outputs": [],
   "source": [
    "df_products = products.load_products_dataframe()"
   ]
  },
  {
   "cell_type": "code",
   "execution_count": 45,
   "metadata": {},
   "outputs": [
    {
     "name": "stdout",
     "output_type": "stream",
     "text": [
      "<class 'pandas.core.frame.DataFrame'>\n",
      "RangeIndex: 110 entries, 0 to 109\n",
      "Data columns (total 9 columns):\n",
      "productCode           110 non-null object\n",
      "productName           110 non-null object\n",
      "productLine           110 non-null object\n",
      "productScale          110 non-null object\n",
      "productVendor         110 non-null object\n",
      "productDescription    110 non-null object\n",
      "quantityInStock       110 non-null int64\n",
      "buyPrice              110 non-null float64\n",
      "MSRP                  110 non-null float64\n",
      "dtypes: float64(2), int64(1), object(6)\n",
      "memory usage: 7.8+ KB\n"
     ]
    }
   ],
   "source": [
    "df_products.info()"
   ]
  },
  {
   "cell_type": "code",
   "execution_count": 35,
   "metadata": {},
   "outputs": [
    {
     "name": "stdout",
     "output_type": "stream",
     "text": [
      "<class 'pandas.core.frame.DataFrame'>\n",
      "RangeIndex: 110 entries, 0 to 109\n",
      "Data columns (total 9 columns):\n",
      "productCode           110 non-null object\n",
      "productName           110 non-null object\n",
      "productLine           110 non-null object\n",
      "productScale          110 non-null object\n",
      "productVendor         110 non-null object\n",
      "productDescription    110 non-null object\n",
      "quantityInStock       110 non-null int64\n",
      "buyPrice              110 non-null float64\n",
      "MSRP                  110 non-null float64\n",
      "dtypes: float64(2), int64(1), object(6)\n",
      "memory usage: 7.8+ KB\n"
     ]
    }
   ],
   "source": [
    "# experimenting with methods to clean our dataframe to later put in our child class\n",
    "df_products[\"quantityInStock\"] = df_products.quantityInStock.astype(int)\n",
    "df_products[\"MSRP\"] = df_products.MSRP.astype(float)\n",
    "df_products[\"buyPrice\"] = df_products.buyPrice.astype(float)\n",
    "\n",
    "df_products.info()"
   ]
  },
  {
   "cell_type": "code",
   "execution_count": null,
   "metadata": {},
   "outputs": [],
   "source": []
  }
 ],
 "metadata": {
  "kernelspec": {
   "display_name": "Python 3",
   "language": "python",
   "name": "python3"
  },
  "language_info": {
   "codemirror_mode": {
    "name": "ipython",
    "version": 3
   },
   "file_extension": ".py",
   "mimetype": "text/x-python",
   "name": "python",
   "nbconvert_exporter": "python",
   "pygments_lexer": "ipython3",
   "version": "3.6.4"
  }
 },
 "nbformat": 4,
 "nbformat_minor": 2
}
